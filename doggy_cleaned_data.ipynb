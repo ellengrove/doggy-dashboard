{
 "cells": [
  {
   "cell_type": "code",
   "execution_count": null,
   "id": "85531eb8",
   "metadata": {},
   "outputs": [],
   "source": [
    "import json\n",
    "from pathlib import Path\n",
    "import re\n",
    "import csv\n",
    "import os\n",
    "\n",
    "text_path = os.path.join('static','data','cleaned_data.csv')"
   ]
  },
  {
   "cell_type": "code",
   "execution_count": null,
   "id": "3571f566",
   "metadata": {},
   "outputs": [],
   "source": [
    "with open('static/data/breeds.json') as f:\n",
    "    data = json.load(f)"
   ]
  },
  {
   "cell_type": "code",
   "execution_count": null,
   "id": "1ff42429",
   "metadata": {},
   "outputs": [],
   "source": [
    "data"
   ]
  },
  {
   "cell_type": "code",
   "execution_count": null,
   "id": "6662bcf0",
   "metadata": {},
   "outputs": [],
   "source": [
    "for record in data:\n",
    "    try:\n",
    "        \n",
    "        record['height_lower'] = float(record['height']['imperial'].split('-')[0])\n",
    "        record['height_upper'] = float(record['height']['imperial'].split('-')[1])\n",
    "    except:\n",
    "        pass\n",
    "    \n",
    "    try:\n",
    "        record['image_url'] = record['image']['url']\n",
    "    except:\n",
    "        pass\n",
    "    try:\n",
    "        record['life_span_lower'] = int(record['life_span'].split(' ')[0])\n",
    "        record['life_span_upper'] = int(record['life_span'].split(' ')[2])\n",
    "    except:\n",
    "        record['life_span_upper'] = record['life_span_lower']\n",
    "    try:\n",
    "        record['weight_lower'] = float(record['weight']['imperial'].split('-')[0])\n",
    "        record['weight_upper'] = float(record['weight']['imperial'].split('-')[1])\n",
    "    except:\n",
    "        \n",
    "        try:\n",
    "            record['weight_upper'] = record['weight_lower']\n",
    "        except:\n",
    "            pass\n",
    "           \n",
    "    record.pop('height',None)\n",
    "    record.pop('image',None)\n",
    "    record.pop('weight',None)\n",
    "    record.pop('life_span',None)\n",
    "    record.pop('origin',None)\n",
    "    record.pop('reference_image_id',None)\n",
    "    record.pop('country_code',None)\n",
    "    record.pop('history',None)"
   ]
  },
  {
   "cell_type": "code",
   "execution_count": null,
   "id": "97c2c53a",
   "metadata": {},
   "outputs": [],
   "source": [
    "data"
   ]
  },
  {
   "cell_type": "code",
   "execution_count": null,
   "id": "365346b8",
   "metadata": {},
   "outputs": [],
   "source": [
    "columns = []\n",
    "for r in data:\n",
    "    for k,v in r.items():\n",
    "        columns.append(k)\n",
    "columns = list(set(columns))\n",
    "\n",
    "columns"
   ]
  },
  {
   "cell_type": "code",
   "execution_count": null,
   "id": "e98ec0ac",
   "metadata": {},
   "outputs": [],
   "source": [
    "with open(text_path, 'w',newline='') as csvfile:\n",
    "    writer = csv.DictWriter(csvfile, fieldnames=columns)\n",
    "    writer.writeheader()\n",
    "    for key in data:\n",
    "        writer.writerow(key)\n",
    "\n",
    "\n",
    "\n",
    "\n",
    "# with open(text_path,'w') as out_file:\n",
    "#     csv_w = csv.writer(out_file)\n",
    "    \n",
    "    \n",
    "#     csv_w.writerow(columns)\n",
    "#     for i_r in data:\n",
    "#         csv_w.writerow(map(lambda x: i_r.get(x, \"\"), columns))\n",
    "#     for row in data:\n",
    "#         csv_w.writerow(row.values())"
   ]
  },
  {
   "cell_type": "raw",
   "id": "b7bacca8",
   "metadata": {},
   "source": [
    "# with open(fname, 'wb') as out_file:\n",
    "#     csv_w = csv.writer(out_file)\n",
    "#     csv_w.writerow(columns)\n",
    "\n",
    "#     for i_r in input:\n",
    "#         csv_w.writerow(map(lambda x: i_r.get(x, \"\"), columns))\n"
   ]
  },
  {
   "cell_type": "code",
   "execution_count": null,
   "id": "e361d990",
   "metadata": {},
   "outputs": [],
   "source": [
    "text_path"
   ]
  },
  {
   "cell_type": "code",
   "execution_count": null,
   "id": "4117e6b3",
   "metadata": {},
   "outputs": [],
   "source": []
  },
  {
   "cell_type": "code",
   "execution_count": null,
   "id": "2cf43ae9",
   "metadata": {},
   "outputs": [],
   "source": []
  },
  {
   "cell_type": "code",
   "execution_count": null,
   "id": "fa63df2f",
   "metadata": {},
   "outputs": [],
   "source": []
  },
  {
   "cell_type": "code",
   "execution_count": null,
   "id": "e314c9f0",
   "metadata": {},
   "outputs": [],
   "source": []
  },
  {
   "cell_type": "code",
   "execution_count": null,
   "id": "c143294d",
   "metadata": {},
   "outputs": [],
   "source": []
  }
 ],
 "metadata": {
  "kernelspec": {
   "display_name": "Python 3 (ipykernel)",
   "language": "python",
   "name": "python3"
  },
  "language_info": {
   "codemirror_mode": {
    "name": "ipython",
    "version": 3
   },
   "file_extension": ".py",
   "mimetype": "text/x-python",
   "name": "python",
   "nbconvert_exporter": "python",
   "pygments_lexer": "ipython3",
   "version": "3.9.7"
  }
 },
 "nbformat": 4,
 "nbformat_minor": 5
}
