{
 "cells": [
  {
   "cell_type": "code",
   "execution_count": null,
   "id": "c7d74a4e",
   "metadata": {},
   "outputs": [],
   "source": [
    "# Import dependencies\n",
    "from bs4 import BeautifulSoup\n",
    "import pandas as pd\n",
    "import numpy as np\n",
    "from splinter import Browser\n",
    "from webdriver_manager.chrome import ChromeDriverManager\n",
    "import unidecode \n",
    "from config import api_key\n",
    "import requests\n",
    "import random"
   ]
  },
  {
   "cell_type": "code",
   "execution_count": null,
   "id": "df1fa82e",
   "metadata": {},
   "outputs": [],
   "source": [
    "# url of website being scraped\n",
    "breeds_url = 'https://stacker.com/stories/2454/origins-50-most-popular-dog-breeds'\n",
    "\n",
    "executable_path = {'executable_path': ChromeDriverManager().install()}\n",
    "browser = Browser('chrome', **executable_path, headless=False)"
   ]
  },
  {
   "cell_type": "code",
   "execution_count": null,
   "id": "28cfd9d8",
   "metadata": {},
   "outputs": [],
   "source": [
    "# visit top 50 dog breeds website\n",
    "browser.visit(breeds_url)\n",
    "html = browser.html\n",
    "soup = BeautifulSoup(html, 'html.parser')"
   ]
  },
  {
   "cell_type": "code",
   "execution_count": null,
   "id": "1fbf8580",
   "metadata": {
    "scrolled": true
   },
   "outputs": [],
   "source": [
    "# array containing top 50 breed info\n",
    "results = soup.find_all('div', class_='ct-slideshow__slide__text-container')\n",
    "results.pop(0)"
   ]
  },
  {
   "cell_type": "code",
   "execution_count": null,
   "id": "e81983ac",
   "metadata": {},
   "outputs": [],
   "source": [
    "# initialize empty lists to store breed info\n",
    "breed_list = []\n",
    "rank_list = []\n",
    "origin_list = []\n",
    "\n",
    "# loop through each dog in results list\n",
    "for item in results:\n",
    "\n",
    "    # extract and append breed names and ranks to lists\n",
    "    breed_title = item.find(class_=\"ct-slideshow__slide__text-container__caption\").text\n",
    "    breed_rank = breed_title.split('. ',1)\n",
    "    rank_list.append(breed_rank[0].strip())\n",
    "    breed_list.append(unidecode.unidecode(breed_rank[1].strip()))\n",
    "    \n",
    "    # extract country/place of origin and append to list\n",
    "    para = item.find('div',class_=\"ct-slideshow__slide__text-container__description\").\\\n",
    "        get_text(separator='<br>', strip=True).split('<br>')\n",
    "    origin = para[0].split(': ',1)\n",
    "    origin_list.append(origin[1])"
   ]
  },
  {
   "cell_type": "code",
   "execution_count": null,
   "id": "88dfe5a0",
   "metadata": {
    "scrolled": true
   },
   "outputs": [],
   "source": [
    "# initialize empty lists to store origin \n",
    "latitude_list = []\n",
    "longitude_list = []\n",
    "\n",
    "# loop through locations in origin list and use google maps API to get latitude/longitude\n",
    "for i in range(len(origin_list)):\n",
    "    location = origin_list[i]\n",
    "    try: \n",
    "        base_url = 'https://maps.googleapis.com/maps/api/geocode/json?'\n",
    "        url = f'{base_url}address={location}&key={api_key}'\n",
    "        data = requests.get(url).json()\n",
    "        \n",
    "        lat = data['results'][0]['geometry']['location']['lat']\n",
    "        lon = data['results'][0]['geometry']['location']['lng']\n",
    "        latitude_list.append(lat)\n",
    "        longitude_list.append(lon)\n",
    "        \n",
    "    except:\n",
    "        latitude_list.append(np.NaN)\n",
    "        longitude_list.append(np.NaN)"
   ]
  },
  {
   "cell_type": "code",
   "execution_count": null,
   "id": "62917060",
   "metadata": {},
   "outputs": [],
   "source": [
    "# generate random float to adjust latitude and longitude so that markers\n",
    "# from same location won't stack directly on top of each other\n",
    "lat_adj_factor = [random.uniform(-2,2) for _ in range(50)]\n",
    "lng_adj_factor = [random.uniform(-2,2) for _ in range(50)]"
   ]
  },
  {
   "cell_type": "code",
   "execution_count": null,
   "id": "60a0924e",
   "metadata": {},
   "outputs": [],
   "source": [
    "# assemble all lists into dataframe\n",
    "origin_df = pd.DataFrame(list(zip(breed_list, rank_list,origin_list,\n",
    "                                 latitude_list,longitude_list,lat_adj_factor,lng_adj_factor)),\n",
    "               columns =['breed_name', 'rank','origin','lat_unadj','lng_unadj',\n",
    "                        'lat_adj_factor','lng_adj_factor'])"
   ]
  },
  {
   "cell_type": "code",
   "execution_count": null,
   "id": "6eaf29b9",
   "metadata": {},
   "outputs": [],
   "source": [
    "# create columns adjusting latitude/longitude by adjustment factors\n",
    "origin_df['lat'] = origin_df['lat_unadj'] + origin_df['lat_adj_factor']\n",
    "origin_df['lng'] = origin_df['lng_unadj'] + origin_df['lng_adj_factor']"
   ]
  },
  {
   "cell_type": "code",
   "execution_count": null,
   "id": "101a961b",
   "metadata": {},
   "outputs": [],
   "source": [
    "# read in cleaned dog breed data to merge against origin data\n",
    "dogs_df = pd.read_csv('data/cleaned_data.csv')\n",
    "\n",
    "# dataframe with just dog name and id\n",
    "dogids_df = pd.DataFrame(dogs_df[['name','id']])"
   ]
  },
  {
   "cell_type": "code",
   "execution_count": null,
   "id": "b48d569c",
   "metadata": {},
   "outputs": [],
   "source": [
    "# make breed name lowercase in both dataframes for merging\n",
    "dogids_df['name_lower'] = dogids_df['name'].str.lower()\n",
    "origin_df['name_lower'] = origin_df['breed_name'].str.lower()"
   ]
  },
  {
   "cell_type": "code",
   "execution_count": null,
   "id": "a426bb3a",
   "metadata": {},
   "outputs": [],
   "source": [
    "# merge dataframes\n",
    "merge_df = origin_df.merge(dogids_df,how='inner',on='name_lower')"
   ]
  },
  {
   "cell_type": "code",
   "execution_count": null,
   "id": "b35a695d",
   "metadata": {},
   "outputs": [],
   "source": [
    "# drop redundant columns\n",
    "merge_df = merge_df.drop(columns=['breed_name','name_lower','lat_adj_factor','lng_adj_factor'])"
   ]
  },
  {
   "cell_type": "code",
   "execution_count": null,
   "id": "251f49a2",
   "metadata": {},
   "outputs": [],
   "source": [
    "# export to csv\n",
    "# merge_df.to_csv('data/breed_origins.csv')"
   ]
  }
 ],
 "metadata": {
  "kernelspec": {
   "display_name": "Python [conda env:PythonData38] *",
   "language": "python",
   "name": "conda-env-PythonData38-py"
  },
  "language_info": {
   "codemirror_mode": {
    "name": "ipython",
    "version": 3
   },
   "file_extension": ".py",
   "mimetype": "text/x-python",
   "name": "python",
   "nbconvert_exporter": "python",
   "pygments_lexer": "ipython3",
   "version": "3.8.12"
  }
 },
 "nbformat": 4,
 "nbformat_minor": 5
}
