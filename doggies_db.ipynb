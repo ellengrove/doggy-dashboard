{
 "cells": [
  {
   "cell_type": "code",
   "execution_count": null,
   "id": "13c151a4",
   "metadata": {},
   "outputs": [],
   "source": [
    "import pandas as pd"
   ]
  },
  {
   "cell_type": "code",
   "execution_count": null,
   "id": "a36d3b92",
   "metadata": {},
   "outputs": [],
   "source": [
    "df = pd.read_json('data/breeds.json')\n",
    "df[\"height\"].apply(pd.Series)\n"
   ]
  },
  {
   "cell_type": "code",
   "execution_count": null,
   "id": "ed63630c",
   "metadata": {},
   "outputs": [],
   "source": [
    "new_df = pd.concat([df, df[\"height\"].apply(pd.Series)], axis=1)\n",
    "new_df"
   ]
  },
  {
   "cell_type": "code",
   "execution_count": null,
   "id": "9518bac1",
   "metadata": {},
   "outputs": [],
   "source": [
    "new_df2 = pd.concat([new_df, df[\"image\"].apply(pd.Series)], axis=1)\n",
    "new_df2"
   ]
  },
  {
   "cell_type": "code",
   "execution_count": null,
   "id": "193c90a0",
   "metadata": {},
   "outputs": [],
   "source": [
    "new_df2.columns"
   ]
  },
  {
   "cell_type": "code",
   "execution_count": null,
   "id": "fdbdb914",
   "metadata": {},
   "outputs": [],
   "source": [
    "drop_df = new_df2.drop(columns=['country_code','description','history','height','id',\n",
    "                                'width','metric','reference_image_id','origin','image'])\n",
    "drop_df\n"
   ]
  },
  {
   "cell_type": "code",
   "execution_count": null,
   "id": "450e0628",
   "metadata": {},
   "outputs": [],
   "source": [
    "drop_df=drop_df.rename(columns={'imperial':'height'})\n",
    "drop_df"
   ]
  },
  {
   "cell_type": "code",
   "execution_count": null,
   "id": "0e4c919b",
   "metadata": {},
   "outputs": [],
   "source": [
    "new_df3 = pd.concat([drop_df, drop_df[\"weight\"].apply(pd.Series)], axis=1)\n",
    "new_df3\n",
    "\n",
    "new_df3=new_df3.drop(columns=['metric','weight'])"
   ]
  },
  {
   "cell_type": "code",
   "execution_count": null,
   "id": "21104519",
   "metadata": {},
   "outputs": [],
   "source": [
    "new_df3=new_df3.rename(columns={'imperial':'weight'})\n",
    "new_df3"
   ]
  },
  {
   "cell_type": "code",
   "execution_count": null,
   "id": "862f0cf7",
   "metadata": {
    "scrolled": true
   },
   "outputs": [],
   "source": [
    "new_df4 = new_df3['weight'].str.split('- ',expand=True)\n",
    "new_df4"
   ]
  },
  {
   "cell_type": "code",
   "execution_count": null,
   "id": "affaea95",
   "metadata": {},
   "outputs": [],
   "source": [
    "life_span_temp = new_df3['life_span'].str.split(' ',expand=True)\n",
    "life_span_temp\n",
    "life_span_temp=life_span_temp.drop(columns=[1,3,4])\n",
    "life_span_temp\n",
    "life_span_temp = life_span_temp.rename(columns={0:'low_life',2:'high_life'})\n",
    "life_span_temp"
   ]
  },
  {
   "cell_type": "code",
   "execution_count": null,
   "id": "f6467159",
   "metadata": {},
   "outputs": [],
   "source": [
    "if high_life == 'None':\n",
    "    high_life = low_life"
   ]
  },
  {
   "cell_type": "code",
   "execution_count": null,
   "id": "a57a0c91",
   "metadata": {},
   "outputs": [],
   "source": []
  },
  {
   "cell_type": "code",
   "execution_count": null,
   "id": "bac065d3",
   "metadata": {},
   "outputs": [],
   "source": []
  },
  {
   "cell_type": "code",
   "execution_count": null,
   "id": "32401b69",
   "metadata": {},
   "outputs": [],
   "source": []
  }
 ],
 "metadata": {
  "kernelspec": {
   "display_name": "Python 3 (ipykernel)",
   "language": "python",
   "name": "python3"
  },
  "language_info": {
   "codemirror_mode": {
    "name": "ipython",
    "version": 3
   },
   "file_extension": ".py",
   "mimetype": "text/x-python",
   "name": "python",
   "nbconvert_exporter": "python",
   "pygments_lexer": "ipython3",
   "version": "3.9.7"
  }
 },
 "nbformat": 4,
 "nbformat_minor": 5
}
